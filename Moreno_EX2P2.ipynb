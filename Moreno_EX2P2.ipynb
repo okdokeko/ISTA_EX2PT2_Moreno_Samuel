{
 "cells": [
  {
   "cell_type": "markdown",
   "id": "2984e77d",
   "metadata": {},
   "source": [
    "# Exam 2, Portion 2 - Samuel Moreno\n",
    "\n",
    "## (5 points): If you are not familiar with this kind of scenario, but you were hired for this job in the real world, you would need to learn about it. Find two resources on the internet that are reliable and of good research quality (no forums, blogs, videos, social media, etc...)\n",
    "\n",
    "## (5 points): Download this dataset and assess it using ISLP 3.3 and 3.4 (like how you did for homework 3).\n",
    "\n",
    "## (5 points): Describe each of the 12 variables in your own words, then mention the datatype of each.\n",
    "\n",
    "## (5 points): Form your research question that can be answered by this dataset.\n",
    "\n",
    "## (5 points): Explain why your research question would be interesting to the board-- do not tailor your research question to me just because I'm your machine learning instructor. I'm interested in your model, but the board cares about money/patients. \n",
    "\n",
    "## (40 points): Choose any algorithm from chapter 5, 6, 7, or 8 to answer your research question. Explain your choice. For example, if you choose Lasso then be sure you apply lasso to your logistic or linear regression model. If you choose a decision tree, make sure your choice is informative for the board. Not too easy or insulting.\n",
    "    Write your algorithm from scratch.\n",
    "    Include resources used for writing your algorithm. \n",
    "    If you choose to use generative AI-- and the gen AI model gets something wrong -- you will be docked for its mistakes. A mistake can include, but is not limited to: code mistakes, getting the right answer for the wrong reason, using a model for the wrong datatypes, ethical violations and assumptions made by the model, etc... \n",
    "\n",
    "## (15 points): You need to validate your algorithm! If you want to use a package for this, that is okay.\n",
    "\n",
    "## (15 points): Create a repository on your personal GitHub site.\n",
    "    Send me the link and be sure I have access. When I receive your email and link, I will verify that I can see your repository and email you back.\n",
    "    Include a Readme file that contains the information from steps 2, 3, 4, 5, 6, 7, and 8. (Steps that include code just need a description).\n",
    "    Submit your code files and name them in this format:\n",
    "        \"step_3_assessment.py\"\n",
    "        \"step_6_chosen-algo.py\"\n",
    "        \"step_7_chosen-validation.py\" (if you wanted this separate; some may choose to keep the algorithm and validation in the same file).\n",
    "    Include disclosures in your readme file including but not limited to: ethics statements, limitations, generative AI use, and references used.\n",
    "    Include instructions for me so I can run your model.\n",
    "    You must have at least three significant changes in your code, visible via pushing your code. Failure to show these changes may earn you a lower grade. I need to see your thought process as well as your final result.\n",
    "\n",
    "> Done\n",
    "\n",
    "## (5 points): In a few sentences, tell the board your conclusions, predictions, and recommendations. \n"
   ]
  }
 ],
 "metadata": {
  "language_info": {
   "name": "python"
  }
 },
 "nbformat": 4,
 "nbformat_minor": 5
}
